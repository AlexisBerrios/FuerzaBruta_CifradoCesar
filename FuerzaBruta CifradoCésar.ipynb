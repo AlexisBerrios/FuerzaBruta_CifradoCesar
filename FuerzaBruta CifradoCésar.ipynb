{
  "cells": [
    {
      "cell_type": "code",
      "execution_count": 35,
      "metadata": {
        "colab": {
          "base_uri": "https://localhost:8080/"
        },
        "id": "e931BaW1bMpq",
        "outputId": "ade27085-e056-4e13-c1d4-c82f1eb1357e"
      },
      "outputs": [
        {
          "output_type": "stream",
          "name": "stdout",
          "text": [
            "SIUuu\n",
            " i have learned that people will forget what you said, people will forget what you did, but people will never forget how you made them feel. - maya angelou.  i attribute my success to this: i never gave or took any excuse. �florence nightingale.  the best time to plant a tree was 20 years ago. the second best time is now. -chinese proverb. i am not a product of my circumstances. i am a product of my decisions. -stephen covey. change your thoughts and you change your world. -norman vincent peale\n",
            "\n"
          ]
        }
      ],
      "source": [
        "def cargaCifrado(): #separa por caracter\n",
        "    archivo = open('textoCifrado.txt', 'r')\n",
        "    renglon = archivo.readline()    \n",
        "    #print(\"es renglon\",renglon)\n",
        "    return renglon\n",
        "\n",
        "def cargaCifrado2():\n",
        "    archivo = open('words.txt', 'r')\n",
        "    renglon = archivo.readline()    \n",
        "    return renglon\n",
        "\n",
        "dic1=cargaCifrado2()\n",
        "'''\n",
        "def cargaArch(nombreArch): #separa por espacio\n",
        "  archivo=open('textoCifrado.txt', 'r')\n",
        "  texto=archivo.readline()\n",
        "  archivo.close()\n",
        "  dic1=texto.split()\n",
        "  return dic1\n",
        "'''\n",
        "#descifra con la llave\n",
        "def descifraCesar(cad,llave):\n",
        "  alfabeto=\"abcdefghijklmnopqrstuvwxyz\"\n",
        "  cifrado=\"\"\n",
        "  for c in cad:\n",
        "    #print(\"es cccc:\",c)\n",
        "    if c in alfabeto:\n",
        "      #print(\"es c:\",c)\n",
        "      pos=alfabeto.find(c)\n",
        "      cifrado=cifrado+alfabeto[((pos-llave)%26)]\n",
        "    else:\n",
        "      cifrado=cifrado+c\n",
        "  return cifrado\n",
        "\n",
        "def getAciertos(texto,dic1): #el diccionario correcto alimenta los aciertos del texto y así \n",
        "  aciertos=0                #con base a el contexto del lenguaje podemos obtener la llave de cifrado correcta\n",
        "  lista=texto.split()\n",
        "  #print(\"_____\",lista,\"\\n\",dic1)\n",
        "  for e in lista:\n",
        "    #print(\"--------------\",e,lista)\n",
        "    if(e in dic1):\n",
        "      #print(\"_____++\",e,dic1)\n",
        "      aciertos+=1\n",
        "  return aciertos\n",
        "\n",
        "\n",
        "#nomas ccarga el archivo en texto\n",
        "texto=cargaCifrado()\n",
        "\n",
        "#for para probar llave por llave\n",
        "for c in range (26):\n",
        "  texto1=descifraCesar(texto,c)\n",
        "  #print(c,texto1) #----->18\n",
        "\n",
        "maxaciertos=0\n",
        "mejorllave=0\n",
        "#print(hola.split())\n",
        "\n",
        "for b in range(26):\n",
        "  texto2=descifraCesar(texto,b)\n",
        "  calif=getAciertos(texto2,dic1)\n",
        "  #print(calif)\n",
        "  if(calif>maxaciertos):\n",
        "    maxaciertos=calif\n",
        "    mejorllave=b\n",
        "    #print(\"-----\",mejorllave)}\n",
        "\n",
        "#una vez obtenida la mejor llave, guardada en b, solo alimentamos la función con la misma\n",
        "print(\"SIUuu\\n\",descifraCesar(texto,mejorllave))\n",
        "\n",
        "\n",
        "\n"
      ]
    },
    {
      "cell_type": "markdown",
      "metadata": {
        "id": "G8soC5zSmhTx"
      },
      "source": []
    }
  ],
  "metadata": {
    "colab": {
      "provenance": []
    },
    "kernelspec": {
      "display_name": "Python 3",
      "name": "python3"
    },
    "language_info": {
      "name": "python"
    }
  },
  "nbformat": 4,
  "nbformat_minor": 0
}